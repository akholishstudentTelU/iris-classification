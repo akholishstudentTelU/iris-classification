{
  "nbformat": 4,
  "nbformat_minor": 0,
  "metadata": {
    "kernelspec": {
      "name": "python3",
      "display_name": "Python 3"
    },
    "language_info": {
      "codemirror_mode": {
        "name": "ipython",
        "version": 3
      },
      "file_extension": ".py",
      "mimetype": "text/x-python",
      "name": "python",
      "nbconvert_exporter": "python",
      "pygments_lexer": "ipython3",
      "version": "3.7.4"
    },
    "colab": {
      "name": "Tugas_Pertemuan_10_Ahzanul_Kholish.ipynb",
      "provenance": [],
      "collapsed_sections": [],
      "include_colab_link": true
    },
    "accelerator": "GPU"
  },
  "cells": [
    {
      "cell_type": "markdown",
      "metadata": {
        "id": "view-in-github",
        "colab_type": "text"
      },
      "source": [
        "<a href=\"https://colab.research.google.com/github/akholishstudentTelU/iris-classification/blob/main/Tugas_Pertemuan_10_Ahzanul_Kholish.ipynb\" target=\"_parent\"><img src=\"https://colab.research.google.com/assets/colab-badge.svg\" alt=\"Open In Colab\"/></a>"
      ]
    },
    {
      "cell_type": "code",
      "metadata": {
        "id": "_dJvuvIBVLS_",
        "colab": {
          "base_uri": "https://localhost:8080/"
        },
        "outputId": "7253016f-3be8-4079-c0f7-e184091c8903"
      },
      "source": [
        "from google.colab import drive\n",
        "drive.mount('/content/drive')"
      ],
      "execution_count": 1,
      "outputs": [
        {
          "output_type": "stream",
          "text": [
            "Mounted at /content/drive\n"
          ],
          "name": "stdout"
        }
      ]
    },
    {
      "cell_type": "code",
      "metadata": {
        "id": "H215ikbNVVZS",
        "colab": {
          "base_uri": "https://localhost:8080/"
        },
        "outputId": "353e0804-8f57-419c-c0e2-2e0728f65df5"
      },
      "source": [
        "cd /content/drive/MyDrive/Tugas_Pertemuan_10"
      ],
      "execution_count": 2,
      "outputs": [
        {
          "output_type": "stream",
          "text": [
            "/content/drive/MyDrive/Tugas_Pertemuan_10\n"
          ],
          "name": "stdout"
        }
      ]
    },
    {
      "cell_type": "code",
      "metadata": {
        "id": "z7VB1d4wVdov",
        "colab": {
          "base_uri": "https://localhost:8080/"
        },
        "outputId": "c3601a85-adae-4428-ca30-e426e244767f"
      },
      "source": [
        "ls"
      ],
      "execution_count": 3,
      "outputs": [
        {
          "output_type": "stream",
          "text": [
            " \u001b[0m\u001b[01;34m3scenes\u001b[0m/   \u001b[01;34m5scenes\u001b[0m/   \u001b[01;34mDataset\u001b[0m/  'Tugas pertemuan-10.txt'\n"
          ],
          "name": "stdout"
        }
      ]
    },
    {
      "cell_type": "code",
      "metadata": {
        "id": "5IGm26ZzVGBs"
      },
      "source": [
        "# import the necessary packages\n",
        "from keras.models import Sequential\n",
        "from keras.layers.convolutional import Conv2D\n",
        "from keras.layers.convolutional import MaxPooling2D\n",
        "from keras.layers.core import Activation\n",
        "from keras.layers.core import Flatten\n",
        "from keras.layers.core import Dense\n",
        "from keras.optimizers import Adam\n",
        "from sklearn.preprocessing import LabelBinarizer\n",
        "from sklearn.model_selection import train_test_split\n",
        "from sklearn.metrics import classification_report\n",
        "from PIL import Image\n",
        "from imutils import paths\n",
        "import numpy as np\n",
        "import os"
      ],
      "execution_count": 4,
      "outputs": []
    },
    {
      "cell_type": "code",
      "metadata": {
        "id": "0-5PXYTsVGBw",
        "colab": {
          "base_uri": "https://localhost:8080/"
        },
        "outputId": "fe0d5cef-6ba7-44e3-fa32-de2aa0e71122"
      },
      "source": [
        "# grab all image paths in the input dataset directory, then initialize\n",
        "# our list of images and corresponding class labels\n",
        "print(\"[INFO] loading images...\")\n",
        "imagePaths = paths.list_images(\"5scenes\")\n",
        "data = []\n",
        "labels = []"
      ],
      "execution_count": 122,
      "outputs": [
        {
          "output_type": "stream",
          "text": [
            "[INFO] loading images...\n"
          ],
          "name": "stdout"
        }
      ]
    },
    {
      "cell_type": "code",
      "metadata": {
        "id": "9Q-KXSsGVGB0"
      },
      "source": [
        "# loop over our input images\n",
        "for imagePath in imagePaths:\n",
        "\t# load the input image from disk, resize it to 244x64 pixels, scale\n",
        "\t# the pixel intensities to the range [0, 1], and then update our\n",
        "\t# images list\n",
        "\timage = Image.open(imagePath)\n",
        "\timage = np.array(image.resize((224, 224))) / 255.0\n",
        "\tdata.append(image)\n",
        "\n",
        "\t# extract the class label from the file path and update the\n",
        "\t# labels list\n",
        "\tlabel = imagePath.split(os.path.sep)[-2]\n",
        "\tlabels.append(label)"
      ],
      "execution_count": 123,
      "outputs": []
    },
    {
      "cell_type": "code",
      "metadata": {
        "id": "Rzbolh88VGB2",
        "colab": {
          "base_uri": "https://localhost:8080/"
        },
        "outputId": "fdbdddc5-03f0-4388-84a6-0cba0ede4232"
      },
      "source": [
        "print(labels)"
      ],
      "execution_count": 124,
      "outputs": [
        {
          "output_type": "stream",
          "text": [
            "['GMB_02', 'GMB_02', 'GMB_02', 'GMB_02', 'GMB_02', 'GMB_02', 'GMB_02', 'GMB_02', 'GMB_02', 'GMB_02', 'GMB_02', 'GMB_02', 'GMB_02', 'GMB_02', 'GMB_02', 'GMB_02', 'GMB_02', 'GMB_02', 'GMB_02', 'GMB_02', 'GMB_02', 'GMB_02', 'GMB_02', 'GMB_02', 'GMB_02', 'GMB_02', 'GMB_02', 'GMB_02', 'GMB_02', 'GMB_02', 'GMB_02', 'GMB_02', 'GMB_02', 'GMB_02', 'GMB_02', 'GMB_02', 'GMB_02', 'GMB_02', 'GMB_02', 'GMB_02', 'GMB_02', 'GMB_02', 'GMB_02', 'GMB_02', 'GMB_02', 'GMB_02', 'GMB_02', 'GMB_02', 'GMB_02', 'GMB_02', 'GMB_02', 'GMB_02', 'GMB_02', 'GMB_02', 'GMB_02', 'GMB_02', 'GMB_02', 'GMB_02', 'GMB_02', 'GMB_02', 'GMB_02', 'GMB_02', 'GMB_02', 'GMB_02', 'GMB_02', 'GMB_02', 'GMB_02', 'GMB_02', 'GMB_02', 'GMB_02', 'GMB_02', 'GMB_02', 'GMB_02', 'GMB_02', 'GMB_02', 'GMB_02', 'GMB_02', 'GMB_02', 'GMB_02', 'GMB_02', 'GMB_02', 'GMB_02', 'GMB_02', 'GMB_02', 'GMB_02', 'GMB_02', 'GMB_02', 'GMB_02', 'GMB_02', 'GMB_02', 'GMB_02', 'GMB_02', 'GMB_02', 'GMB_02', 'GMB_02', 'GMB_02', 'GMB_02', 'GMB_02', 'GMB_02', 'GMB_02', 'GMB_02', 'GMB_02', 'GMB_02', 'GMB_02', 'GMB_02', 'GMB_02', 'GMB_02', 'GMB_02', 'GMB_02', 'GMB_02', 'GMB_02', 'GMB_02', 'GMB_02', 'GMB_03', 'GMB_03', 'GMB_03', 'GMB_03', 'GMB_03', 'GMB_03', 'GMB_03', 'GMB_03', 'GMB_03', 'GMB_03', 'GMB_03', 'GMB_03', 'GMB_03', 'GMB_03', 'GMB_03', 'GMB_03', 'GMB_03', 'GMB_03', 'GMB_03', 'GMB_03', 'GMB_03', 'GMB_03', 'GMB_03', 'GMB_03', 'GMB_03', 'GMB_03', 'GMB_03', 'GMB_03', 'GMB_03', 'GMB_03', 'GMB_03', 'GMB_03', 'GMB_03', 'GMB_03', 'GMB_03', 'GMB_03', 'GMB_03', 'GMB_03', 'GMB_03', 'GMB_03', 'GMB_03', 'GMB_03', 'GMB_03', 'GMB_03', 'GMB_03', 'GMB_03', 'GMB_03', 'GMB_03', 'GMB_03', 'GMB_03', 'GMB_03', 'GMB_03', 'GMB_03', 'GMB_03', 'GMB_03', 'GMB_03', 'GMB_03', 'GMB_03', 'GMB_03', 'GMB_03', 'GMB_03', 'GMB_03', 'GMB_03', 'GMB_03', 'GMB_03', 'GMB_03', 'GMB_03', 'GMB_03', 'GMB_03', 'GMB_03', 'GMB_03', 'GMB_03', 'GMB_03', 'GMB_03', 'GMB_03', 'GMB_03', 'GMB_03', 'GMB_03', 'GMB_03', 'GMB_03', 'GMB_03', 'GMB_03', 'GMB_03', 'GMB_03', 'GMB_03', 'GMB_03', 'GMB_03', 'GMB_03', 'GMB_03', 'GMB_03', 'GMB_03', 'GMB_03', 'GMB_03', 'GMB_03', 'GMB_03', 'GMB_03', 'GMB_03', 'GMB_03', 'GMB_03', 'GMB_03', 'GMB_03', 'GMB_03', 'GMB_03', 'GMB_03', 'GMB_03', 'GMB_03', 'GMB_03', 'GMB_03', 'GMB_03', 'GMB_03', 'GMB_03', 'GMB_03', 'GMB_01', 'GMB_01', 'GMB_01', 'GMB_01', 'GMB_01', 'GMB_01', 'GMB_01', 'GMB_01', 'GMB_01', 'GMB_01', 'GMB_01', 'GMB_01', 'GMB_01', 'GMB_01', 'GMB_01', 'GMB_01', 'GMB_01', 'GMB_01', 'GMB_01', 'GMB_01', 'GMB_01', 'GMB_01', 'GMB_01', 'GMB_01', 'GMB_01', 'GMB_01', 'GMB_01', 'GMB_01', 'GMB_01', 'GMB_01', 'GMB_01', 'GMB_01', 'GMB_01', 'GMB_01', 'GMB_01', 'GMB_01', 'GMB_01', 'GMB_01', 'GMB_01', 'GMB_01', 'GMB_01', 'GMB_01', 'GMB_01', 'GMB_01', 'GMB_01', 'GMB_01', 'GMB_01', 'GMB_01', 'GMB_01', 'GMB_01', 'GMB_01', 'GMB_01', 'GMB_01', 'GMB_01', 'GMB_01', 'GMB_01', 'GMB_01', 'GMB_01', 'GMB_01', 'GMB_01', 'GMB_01', 'GMB_01', 'GMB_01', 'GMB_01', 'GMB_01', 'GMB_01', 'GMB_01', 'GMB_01', 'GMB_01', 'GMB_01', 'GMB_01', 'GMB_01', 'GMB_01', 'GMB_01', 'GMB_01', 'GMB_01', 'GMB_01', 'GMB_01', 'GMB_01', 'GMB_01', 'GMB_01', 'GMB_01', 'GMB_01', 'GMB_01', 'GMB_01', 'GMB_01', 'GMB_01', 'GMB_01', 'GMB_01', 'GMB_01', 'GMB_01', 'GMB_01', 'GMB_01', 'GMB_01', 'GMB_01', 'GMB_01', 'GMB_01', 'GMB_01', 'GMB_01', 'GMB_01', 'GMB_01', 'GMB_01', 'GMB_01', 'GMB_01', 'GMB_01', 'GMB_01', 'GMB_01', 'GMB_01', 'GMB_01', 'GMB_01', 'GMB_01', 'GMB_01', 'GMB_01', 'GMB_01', 'GMB_01', 'GMB_01', 'GMB_05', 'GMB_05', 'GMB_05', 'GMB_05', 'GMB_05', 'GMB_05', 'GMB_05', 'GMB_05', 'GMB_05', 'GMB_05', 'GMB_05', 'GMB_05', 'GMB_05', 'GMB_05', 'GMB_05', 'GMB_05', 'GMB_05', 'GMB_05', 'GMB_05', 'GMB_05', 'GMB_05', 'GMB_05', 'GMB_05', 'GMB_05', 'GMB_05', 'GMB_05', 'GMB_05', 'GMB_05', 'GMB_05', 'GMB_05', 'GMB_05', 'GMB_05', 'GMB_05', 'GMB_05', 'GMB_05', 'GMB_05', 'GMB_05', 'GMB_05', 'GMB_05', 'GMB_05', 'GMB_05', 'GMB_05', 'GMB_05', 'GMB_05', 'GMB_05', 'GMB_05', 'GMB_05', 'GMB_05', 'GMB_05', 'GMB_05', 'GMB_05', 'GMB_05', 'GMB_05', 'GMB_05', 'GMB_05', 'GMB_05', 'GMB_05', 'GMB_05', 'GMB_05', 'GMB_05', 'GMB_05', 'GMB_05', 'GMB_05', 'GMB_05', 'GMB_05', 'GMB_05', 'GMB_05', 'GMB_05', 'GMB_05', 'GMB_05', 'GMB_05', 'GMB_05', 'GMB_05', 'GMB_05', 'GMB_05', 'GMB_05', 'GMB_05', 'GMB_05', 'GMB_05', 'GMB_05', 'GMB_05', 'GMB_05', 'GMB_05', 'GMB_05', 'GMB_05', 'GMB_05', 'GMB_05', 'GMB_05', 'GMB_05', 'GMB_05', 'GMB_05', 'GMB_05', 'GMB_05', 'GMB_05', 'GMB_05', 'GMB_05', 'GMB_05', 'GMB_05', 'GMB_05', 'GMB_05', 'GMB_05', 'GMB_05', 'GMB_05', 'GMB_05', 'GMB_05', 'GMB_05', 'GMB_05', 'GMB_05', 'GMB_05', 'GMB_05', 'GMB_05', 'GMB_05', 'GMB_05', 'GMB_05', 'GMB_05', 'GMB_05', 'GMB_05', 'GMB_05', 'GMB_05', 'GMB_05', 'GMB_05', 'GMB_04', 'GMB_04', 'GMB_04', 'GMB_04', 'GMB_04', 'GMB_04', 'GMB_04', 'GMB_04', 'GMB_04', 'GMB_04', 'GMB_04', 'GMB_04', 'GMB_04', 'GMB_04', 'GMB_04', 'GMB_04', 'GMB_04', 'GMB_04', 'GMB_04', 'GMB_04', 'GMB_04', 'GMB_04', 'GMB_04', 'GMB_04', 'GMB_04', 'GMB_04', 'GMB_04', 'GMB_04', 'GMB_04', 'GMB_04', 'GMB_04', 'GMB_04', 'GMB_04', 'GMB_04', 'GMB_04', 'GMB_04', 'GMB_04', 'GMB_04', 'GMB_04', 'GMB_04', 'GMB_04', 'GMB_04', 'GMB_04', 'GMB_04', 'GMB_04', 'GMB_04', 'GMB_04', 'GMB_04', 'GMB_04', 'GMB_04', 'GMB_04', 'GMB_04', 'GMB_04', 'GMB_04', 'GMB_04', 'GMB_04', 'GMB_04', 'GMB_04', 'GMB_04', 'GMB_04', 'GMB_04', 'GMB_04', 'GMB_04', 'GMB_04', 'GMB_04', 'GMB_04', 'GMB_04', 'GMB_04', 'GMB_04', 'GMB_04', 'GMB_04', 'GMB_04', 'GMB_04', 'GMB_04', 'GMB_04', 'GMB_04', 'GMB_04', 'GMB_04', 'GMB_04', 'GMB_04', 'GMB_04', 'GMB_04', 'GMB_04', 'GMB_04', 'GMB_04', 'GMB_04', 'GMB_04', 'GMB_04', 'GMB_04', 'GMB_04', 'GMB_04', 'GMB_04', 'GMB_04', 'GMB_04', 'GMB_04', 'GMB_04', 'GMB_04', 'GMB_04', 'GMB_04', 'GMB_04', 'GMB_04', 'GMB_04', 'GMB_04', 'GMB_04', 'GMB_04', 'GMB_04', 'GMB_04', 'GMB_04', 'GMB_04', 'GMB_04', 'GMB_04', 'GMB_04', 'GMB_04', 'GMB_04', 'GMB_04', 'GMB_04', 'GMB_04', 'GMB_04', 'GMB_04', 'GMB_04', 'GMB_04', 'GMB_04']\n"
          ],
          "name": "stdout"
        }
      ]
    },
    {
      "cell_type": "code",
      "metadata": {
        "id": "twd1IeuKVGB5"
      },
      "source": [
        "# encode the labels, converting them from strings to integers\n",
        "lb = LabelBinarizer()\n",
        "labels = lb.fit_transform(labels)"
      ],
      "execution_count": 125,
      "outputs": []
    },
    {
      "cell_type": "code",
      "metadata": {
        "id": "5FPCyIqcVGB7",
        "colab": {
          "base_uri": "https://localhost:8080/"
        },
        "outputId": "3241b361-30c2-4cf8-f64a-4fcb4827c973"
      },
      "source": [
        "print(labels)"
      ],
      "execution_count": 126,
      "outputs": [
        {
          "output_type": "stream",
          "text": [
            "[[0 1 0 0 0]\n",
            " [0 1 0 0 0]\n",
            " [0 1 0 0 0]\n",
            " ...\n",
            " [0 0 0 1 0]\n",
            " [0 0 0 1 0]\n",
            " [0 0 0 1 0]]\n"
          ],
          "name": "stdout"
        }
      ]
    },
    {
      "cell_type": "code",
      "metadata": {
        "id": "ktZ5hNYwVGB9",
        "colab": {
          "base_uri": "https://localhost:8080/"
        },
        "outputId": "78e12255-a2d3-415f-a8b5-a0f725a1fe12"
      },
      "source": [
        "# perform a training and testing split, using 75% of the data for\n",
        "# training and 25% for evaluation\n",
        "(trainX, testX, trainY, testY) = train_test_split(np.array(data),\tnp.array(labels), test_size=0.25)\n",
        "print(trainX.shape)\n",
        "print(testX.shape)"
      ],
      "execution_count": 161,
      "outputs": [
        {
          "output_type": "stream",
          "text": [
            "(438, 224, 224, 3)\n",
            "(146, 224, 224, 3)\n"
          ],
          "name": "stdout"
        }
      ]
    },
    {
      "cell_type": "code",
      "metadata": {
        "id": "-1LK97ZhDrRZ"
      },
      "source": [
        "from keras.applications.mobilenet import MobileNet\n",
        "from keras.callbacks import EarlyStopping, ModelCheckpoint\n",
        "from keras.models import Model\n",
        "from keras.layers import GlobalAveragePooling2D, BatchNormalization"
      ],
      "execution_count": 162,
      "outputs": []
    },
    {
      "cell_type": "code",
      "metadata": {
        "id": "1gv-u7AfEBQg",
        "colab": {
          "base_uri": "https://localhost:8080/"
        },
        "outputId": "e0e9262a-f61b-4258-cb82-aed8d4974851"
      },
      "source": [
        "from keras.layers import Dropout\n",
        "base_model = MobileNet(weights='imagenet', include_top=False)\n",
        "x = base_model.output\n",
        "x = GlobalAveragePooling2D()(x)\n",
        "x = Dropout(0.5)(x)\n",
        "x = BatchNormalization()(x)\n",
        "x = Dense(512, activation='relu')(x)\n",
        "out = Dense(5, activation='softmax')(x)\n",
        "x = Dropout(0.25)(x)\n",
        "model = Model(inputs=base_model.input, outputs=out)\n",
        "model.summary()"
      ],
      "execution_count": 163,
      "outputs": [
        {
          "output_type": "stream",
          "text": [
            "WARNING:tensorflow:`input_shape` is undefined or non-square, or `rows` is not in [128, 160, 192, 224]. Weights for input shape (224, 224) will be loaded as the default.\n",
            "Model: \"functional_27\"\n",
            "_________________________________________________________________\n",
            "Layer (type)                 Output Shape              Param #   \n",
            "=================================================================\n",
            "input_14 (InputLayer)        [(None, None, None, 3)]   0         \n",
            "_________________________________________________________________\n",
            "conv1_pad (ZeroPadding2D)    (None, None, None, 3)     0         \n",
            "_________________________________________________________________\n",
            "conv1 (Conv2D)               (None, None, None, 32)    864       \n",
            "_________________________________________________________________\n",
            "conv1_bn (BatchNormalization (None, None, None, 32)    128       \n",
            "_________________________________________________________________\n",
            "conv1_relu (ReLU)            (None, None, None, 32)    0         \n",
            "_________________________________________________________________\n",
            "conv_dw_1 (DepthwiseConv2D)  (None, None, None, 32)    288       \n",
            "_________________________________________________________________\n",
            "conv_dw_1_bn (BatchNormaliza (None, None, None, 32)    128       \n",
            "_________________________________________________________________\n",
            "conv_dw_1_relu (ReLU)        (None, None, None, 32)    0         \n",
            "_________________________________________________________________\n",
            "conv_pw_1 (Conv2D)           (None, None, None, 64)    2048      \n",
            "_________________________________________________________________\n",
            "conv_pw_1_bn (BatchNormaliza (None, None, None, 64)    256       \n",
            "_________________________________________________________________\n",
            "conv_pw_1_relu (ReLU)        (None, None, None, 64)    0         \n",
            "_________________________________________________________________\n",
            "conv_pad_2 (ZeroPadding2D)   (None, None, None, 64)    0         \n",
            "_________________________________________________________________\n",
            "conv_dw_2 (DepthwiseConv2D)  (None, None, None, 64)    576       \n",
            "_________________________________________________________________\n",
            "conv_dw_2_bn (BatchNormaliza (None, None, None, 64)    256       \n",
            "_________________________________________________________________\n",
            "conv_dw_2_relu (ReLU)        (None, None, None, 64)    0         \n",
            "_________________________________________________________________\n",
            "conv_pw_2 (Conv2D)           (None, None, None, 128)   8192      \n",
            "_________________________________________________________________\n",
            "conv_pw_2_bn (BatchNormaliza (None, None, None, 128)   512       \n",
            "_________________________________________________________________\n",
            "conv_pw_2_relu (ReLU)        (None, None, None, 128)   0         \n",
            "_________________________________________________________________\n",
            "conv_dw_3 (DepthwiseConv2D)  (None, None, None, 128)   1152      \n",
            "_________________________________________________________________\n",
            "conv_dw_3_bn (BatchNormaliza (None, None, None, 128)   512       \n",
            "_________________________________________________________________\n",
            "conv_dw_3_relu (ReLU)        (None, None, None, 128)   0         \n",
            "_________________________________________________________________\n",
            "conv_pw_3 (Conv2D)           (None, None, None, 128)   16384     \n",
            "_________________________________________________________________\n",
            "conv_pw_3_bn (BatchNormaliza (None, None, None, 128)   512       \n",
            "_________________________________________________________________\n",
            "conv_pw_3_relu (ReLU)        (None, None, None, 128)   0         \n",
            "_________________________________________________________________\n",
            "conv_pad_4 (ZeroPadding2D)   (None, None, None, 128)   0         \n",
            "_________________________________________________________________\n",
            "conv_dw_4 (DepthwiseConv2D)  (None, None, None, 128)   1152      \n",
            "_________________________________________________________________\n",
            "conv_dw_4_bn (BatchNormaliza (None, None, None, 128)   512       \n",
            "_________________________________________________________________\n",
            "conv_dw_4_relu (ReLU)        (None, None, None, 128)   0         \n",
            "_________________________________________________________________\n",
            "conv_pw_4 (Conv2D)           (None, None, None, 256)   32768     \n",
            "_________________________________________________________________\n",
            "conv_pw_4_bn (BatchNormaliza (None, None, None, 256)   1024      \n",
            "_________________________________________________________________\n",
            "conv_pw_4_relu (ReLU)        (None, None, None, 256)   0         \n",
            "_________________________________________________________________\n",
            "conv_dw_5 (DepthwiseConv2D)  (None, None, None, 256)   2304      \n",
            "_________________________________________________________________\n",
            "conv_dw_5_bn (BatchNormaliza (None, None, None, 256)   1024      \n",
            "_________________________________________________________________\n",
            "conv_dw_5_relu (ReLU)        (None, None, None, 256)   0         \n",
            "_________________________________________________________________\n",
            "conv_pw_5 (Conv2D)           (None, None, None, 256)   65536     \n",
            "_________________________________________________________________\n",
            "conv_pw_5_bn (BatchNormaliza (None, None, None, 256)   1024      \n",
            "_________________________________________________________________\n",
            "conv_pw_5_relu (ReLU)        (None, None, None, 256)   0         \n",
            "_________________________________________________________________\n",
            "conv_pad_6 (ZeroPadding2D)   (None, None, None, 256)   0         \n",
            "_________________________________________________________________\n",
            "conv_dw_6 (DepthwiseConv2D)  (None, None, None, 256)   2304      \n",
            "_________________________________________________________________\n",
            "conv_dw_6_bn (BatchNormaliza (None, None, None, 256)   1024      \n",
            "_________________________________________________________________\n",
            "conv_dw_6_relu (ReLU)        (None, None, None, 256)   0         \n",
            "_________________________________________________________________\n",
            "conv_pw_6 (Conv2D)           (None, None, None, 512)   131072    \n",
            "_________________________________________________________________\n",
            "conv_pw_6_bn (BatchNormaliza (None, None, None, 512)   2048      \n",
            "_________________________________________________________________\n",
            "conv_pw_6_relu (ReLU)        (None, None, None, 512)   0         \n",
            "_________________________________________________________________\n",
            "conv_dw_7 (DepthwiseConv2D)  (None, None, None, 512)   4608      \n",
            "_________________________________________________________________\n",
            "conv_dw_7_bn (BatchNormaliza (None, None, None, 512)   2048      \n",
            "_________________________________________________________________\n",
            "conv_dw_7_relu (ReLU)        (None, None, None, 512)   0         \n",
            "_________________________________________________________________\n",
            "conv_pw_7 (Conv2D)           (None, None, None, 512)   262144    \n",
            "_________________________________________________________________\n",
            "conv_pw_7_bn (BatchNormaliza (None, None, None, 512)   2048      \n",
            "_________________________________________________________________\n",
            "conv_pw_7_relu (ReLU)        (None, None, None, 512)   0         \n",
            "_________________________________________________________________\n",
            "conv_dw_8 (DepthwiseConv2D)  (None, None, None, 512)   4608      \n",
            "_________________________________________________________________\n",
            "conv_dw_8_bn (BatchNormaliza (None, None, None, 512)   2048      \n",
            "_________________________________________________________________\n",
            "conv_dw_8_relu (ReLU)        (None, None, None, 512)   0         \n",
            "_________________________________________________________________\n",
            "conv_pw_8 (Conv2D)           (None, None, None, 512)   262144    \n",
            "_________________________________________________________________\n",
            "conv_pw_8_bn (BatchNormaliza (None, None, None, 512)   2048      \n",
            "_________________________________________________________________\n",
            "conv_pw_8_relu (ReLU)        (None, None, None, 512)   0         \n",
            "_________________________________________________________________\n",
            "conv_dw_9 (DepthwiseConv2D)  (None, None, None, 512)   4608      \n",
            "_________________________________________________________________\n",
            "conv_dw_9_bn (BatchNormaliza (None, None, None, 512)   2048      \n",
            "_________________________________________________________________\n",
            "conv_dw_9_relu (ReLU)        (None, None, None, 512)   0         \n",
            "_________________________________________________________________\n",
            "conv_pw_9 (Conv2D)           (None, None, None, 512)   262144    \n",
            "_________________________________________________________________\n",
            "conv_pw_9_bn (BatchNormaliza (None, None, None, 512)   2048      \n",
            "_________________________________________________________________\n",
            "conv_pw_9_relu (ReLU)        (None, None, None, 512)   0         \n",
            "_________________________________________________________________\n",
            "conv_dw_10 (DepthwiseConv2D) (None, None, None, 512)   4608      \n",
            "_________________________________________________________________\n",
            "conv_dw_10_bn (BatchNormaliz (None, None, None, 512)   2048      \n",
            "_________________________________________________________________\n",
            "conv_dw_10_relu (ReLU)       (None, None, None, 512)   0         \n",
            "_________________________________________________________________\n",
            "conv_pw_10 (Conv2D)          (None, None, None, 512)   262144    \n",
            "_________________________________________________________________\n",
            "conv_pw_10_bn (BatchNormaliz (None, None, None, 512)   2048      \n",
            "_________________________________________________________________\n",
            "conv_pw_10_relu (ReLU)       (None, None, None, 512)   0         \n",
            "_________________________________________________________________\n",
            "conv_dw_11 (DepthwiseConv2D) (None, None, None, 512)   4608      \n",
            "_________________________________________________________________\n",
            "conv_dw_11_bn (BatchNormaliz (None, None, None, 512)   2048      \n",
            "_________________________________________________________________\n",
            "conv_dw_11_relu (ReLU)       (None, None, None, 512)   0         \n",
            "_________________________________________________________________\n",
            "conv_pw_11 (Conv2D)          (None, None, None, 512)   262144    \n",
            "_________________________________________________________________\n",
            "conv_pw_11_bn (BatchNormaliz (None, None, None, 512)   2048      \n",
            "_________________________________________________________________\n",
            "conv_pw_11_relu (ReLU)       (None, None, None, 512)   0         \n",
            "_________________________________________________________________\n",
            "conv_pad_12 (ZeroPadding2D)  (None, None, None, 512)   0         \n",
            "_________________________________________________________________\n",
            "conv_dw_12 (DepthwiseConv2D) (None, None, None, 512)   4608      \n",
            "_________________________________________________________________\n",
            "conv_dw_12_bn (BatchNormaliz (None, None, None, 512)   2048      \n",
            "_________________________________________________________________\n",
            "conv_dw_12_relu (ReLU)       (None, None, None, 512)   0         \n",
            "_________________________________________________________________\n",
            "conv_pw_12 (Conv2D)          (None, None, None, 1024)  524288    \n",
            "_________________________________________________________________\n",
            "conv_pw_12_bn (BatchNormaliz (None, None, None, 1024)  4096      \n",
            "_________________________________________________________________\n",
            "conv_pw_12_relu (ReLU)       (None, None, None, 1024)  0         \n",
            "_________________________________________________________________\n",
            "conv_dw_13 (DepthwiseConv2D) (None, None, None, 1024)  9216      \n",
            "_________________________________________________________________\n",
            "conv_dw_13_bn (BatchNormaliz (None, None, None, 1024)  4096      \n",
            "_________________________________________________________________\n",
            "conv_dw_13_relu (ReLU)       (None, None, None, 1024)  0         \n",
            "_________________________________________________________________\n",
            "conv_pw_13 (Conv2D)          (None, None, None, 1024)  1048576   \n",
            "_________________________________________________________________\n",
            "conv_pw_13_bn (BatchNormaliz (None, None, None, 1024)  4096      \n",
            "_________________________________________________________________\n",
            "conv_pw_13_relu (ReLU)       (None, None, None, 1024)  0         \n",
            "_________________________________________________________________\n",
            "global_average_pooling2d_13  (None, 1024)              0         \n",
            "_________________________________________________________________\n",
            "dropout_19 (Dropout)         (None, 1024)              0         \n",
            "_________________________________________________________________\n",
            "batch_normalization_13 (Batc (None, 1024)              4096      \n",
            "_________________________________________________________________\n",
            "dense_26 (Dense)             (None, 512)               524800    \n",
            "_________________________________________________________________\n",
            "dense_27 (Dense)             (None, 5)                 2565      \n",
            "=================================================================\n",
            "Total params: 3,760,325\n",
            "Trainable params: 3,736,389\n",
            "Non-trainable params: 23,936\n",
            "_________________________________________________________________\n"
          ],
          "name": "stdout"
        }
      ]
    },
    {
      "cell_type": "code",
      "metadata": {
        "id": "6gVx0PzEF5p2"
      },
      "source": [
        "es = EarlyStopping(monitor='val_loss',\n",
        "                   patience=20,\n",
        "                   mode='auto',\n",
        "                   restore_best_weights=True)\n",
        "checkpoint = ModelCheckpoint('best_weight_scene_mobileNet.h5',\n",
        "                             monitor='val_accuracy',\n",
        "                             verbose=1,\n",
        "                             save_best_only=True,\n",
        "                             mode='auto',)"
      ],
      "execution_count": 164,
      "outputs": []
    },
    {
      "cell_type": "code",
      "metadata": {
        "id": "sny_9-wU8PGB"
      },
      "source": [
        "from keras.models import Sequential\n",
        "from keras.layers.core import Flatten\n",
        "from keras.layers.core import Dense\n",
        "\n",
        "model = Sequential(\n",
        "    [\n",
        "        Flatten(input_shape=(224*224*3,)),\n",
        "        Dense(100, activation=\"relu\", name=\"layer1\"),\n",
        "        Dense(16, activation=\"relu\", name=\"layer2\"),\n",
        "        Dense(16, activation=\"relu\", name=\"layer3\"),\n",
        "        Dense(5, activation = \"softmax\", name=\"layer4\"),\n",
        "    ]\n",
        ")"
      ],
      "execution_count": 165,
      "outputs": []
    },
    {
      "cell_type": "code",
      "metadata": {
        "id": "L0TdWxuFPkT3",
        "colab": {
          "base_uri": "https://localhost:8080/"
        },
        "outputId": "1e6d7651-e44e-4a04-c3c7-426177ec9c70"
      },
      "source": [
        "model.summary()"
      ],
      "execution_count": 166,
      "outputs": [
        {
          "output_type": "stream",
          "text": [
            "Model: \"sequential_22\"\n",
            "_________________________________________________________________\n",
            "Layer (type)                 Output Shape              Param #   \n",
            "=================================================================\n",
            "flatten_22 (Flatten)         (None, 150528)            0         \n",
            "_________________________________________________________________\n",
            "layer1 (Dense)               (None, 100)               15052900  \n",
            "_________________________________________________________________\n",
            "layer2 (Dense)               (None, 16)                1616      \n",
            "_________________________________________________________________\n",
            "layer3 (Dense)               (None, 16)                272       \n",
            "_________________________________________________________________\n",
            "layer4 (Dense)               (None, 5)                 85        \n",
            "=================================================================\n",
            "Total params: 15,054,873\n",
            "Trainable params: 15,054,873\n",
            "Non-trainable params: 0\n",
            "_________________________________________________________________\n"
          ],
          "name": "stdout"
        }
      ]
    },
    {
      "cell_type": "code",
      "metadata": {
        "scrolled": true,
        "id": "ggcSdj_aVGCB",
        "colab": {
          "base_uri": "https://localhost:8080/"
        },
        "outputId": "f4ae982a-6922-443c-836f-0725e71d17a4"
      },
      "source": [
        "# train the model using the Adam optimizer\n",
        "print(\"[INFO] training network...\")\n",
        "opt = Adam(lr=1e-3, decay=1e-3 / 50)\n",
        "model.compile(loss=\"categorical_crossentropy\", optimizer=opt,\n",
        "\tmetrics=[\"accuracy\"])\n",
        "H = model.fit(trainX, trainY, validation_data=(testX, testY), epochs=200, batch_size=32, callbacks=[es, checkpoint])"
      ],
      "execution_count": 167,
      "outputs": [
        {
          "output_type": "stream",
          "text": [
            "[INFO] training network...\n",
            "Epoch 1/200\n",
            "WARNING:tensorflow:Model was constructed with shape (None, 150528) for input Tensor(\"flatten_22_input:0\", shape=(None, 150528), dtype=float32), but it was called on an input with incompatible shape (None, 224, 224, 3).\n",
            "WARNING:tensorflow:Model was constructed with shape (None, 150528) for input Tensor(\"flatten_22_input:0\", shape=(None, 150528), dtype=float32), but it was called on an input with incompatible shape (None, 224, 224, 3).\n",
            "13/14 [==========================>...] - ETA: 0s - loss: 40.0380 - accuracy: 0.2115WARNING:tensorflow:Model was constructed with shape (None, 150528) for input Tensor(\"flatten_22_input:0\", shape=(None, 150528), dtype=float32), but it was called on an input with incompatible shape (None, 224, 224, 3).\n",
            "\n",
            "Epoch 00001: val_accuracy improved from -inf to 0.26712, saving model to best_weight_scene_mobileNet.h5\n",
            "14/14 [==============================] - 1s 98ms/step - loss: 38.6819 - accuracy: 0.2078 - val_loss: 29.7112 - val_accuracy: 0.2671\n",
            "Epoch 2/200\n",
            "13/14 [==========================>...] - ETA: 0s - loss: 17.8651 - accuracy: 0.2524\n",
            "Epoch 00002: val_accuracy did not improve from 0.26712\n",
            "14/14 [==============================] - 0s 21ms/step - loss: 17.7311 - accuracy: 0.2466 - val_loss: 21.8230 - val_accuracy: 0.1507\n",
            "Epoch 3/200\n",
            "13/14 [==========================>...] - ETA: 0s - loss: 13.6816 - accuracy: 0.2260\n",
            "Epoch 00003: val_accuracy did not improve from 0.26712\n",
            "14/14 [==============================] - 0s 20ms/step - loss: 13.7095 - accuracy: 0.2260 - val_loss: 15.2844 - val_accuracy: 0.2466\n",
            "Epoch 4/200\n",
            "13/14 [==========================>...] - ETA: 0s - loss: 9.2907 - accuracy: 0.2716 \n",
            "Epoch 00004: val_accuracy improved from 0.26712 to 0.29452, saving model to best_weight_scene_mobileNet.h5\n",
            "14/14 [==============================] - 1s 71ms/step - loss: 8.9002 - accuracy: 0.2831 - val_loss: 5.7769 - val_accuracy: 0.2945\n",
            "Epoch 5/200\n",
            "12/14 [========================>.....] - ETA: 0s - loss: 5.1447 - accuracy: 0.3307\n",
            "Epoch 00005: val_accuracy did not improve from 0.29452\n",
            "14/14 [==============================] - 0s 22ms/step - loss: 5.5209 - accuracy: 0.3151 - val_loss: 5.4791 - val_accuracy: 0.2329\n",
            "Epoch 6/200\n",
            "13/14 [==========================>...] - ETA: 0s - loss: 3.9650 - accuracy: 0.3654\n",
            "Epoch 00006: val_accuracy did not improve from 0.29452\n",
            "14/14 [==============================] - 0s 21ms/step - loss: 3.9755 - accuracy: 0.3630 - val_loss: 2.9203 - val_accuracy: 0.2123\n",
            "Epoch 7/200\n",
            "14/14 [==============================] - ETA: 0s - loss: 2.4570 - accuracy: 0.3858\n",
            "Epoch 00007: val_accuracy improved from 0.29452 to 0.40411, saving model to best_weight_scene_mobileNet.h5\n",
            "14/14 [==============================] - 1s 69ms/step - loss: 2.4570 - accuracy: 0.3858 - val_loss: 2.1685 - val_accuracy: 0.4041\n",
            "Epoch 8/200\n",
            "13/14 [==========================>...] - ETA: 0s - loss: 2.7589 - accuracy: 0.3774\n",
            "Epoch 00008: val_accuracy did not improve from 0.40411\n",
            "14/14 [==============================] - 0s 18ms/step - loss: 2.7207 - accuracy: 0.3813 - val_loss: 3.2244 - val_accuracy: 0.2877\n",
            "Epoch 9/200\n",
            "13/14 [==========================>...] - ETA: 0s - loss: 3.3171 - accuracy: 0.3870\n",
            "Epoch 00009: val_accuracy did not improve from 0.40411\n",
            "14/14 [==============================] - 0s 19ms/step - loss: 3.4448 - accuracy: 0.3858 - val_loss: 5.1567 - val_accuracy: 0.2192\n",
            "Epoch 10/200\n",
            "13/14 [==========================>...] - ETA: 0s - loss: 2.6487 - accuracy: 0.3702\n",
            "Epoch 00010: val_accuracy did not improve from 0.40411\n",
            "14/14 [==============================] - 0s 19ms/step - loss: 2.5918 - accuracy: 0.3767 - val_loss: 2.2297 - val_accuracy: 0.3904\n",
            "Epoch 11/200\n",
            "13/14 [==========================>...] - ETA: 0s - loss: 1.3706 - accuracy: 0.4952\n",
            "Epoch 00011: val_accuracy improved from 0.40411 to 0.45890, saving model to best_weight_scene_mobileNet.h5\n",
            "14/14 [==============================] - 1s 67ms/step - loss: 1.3464 - accuracy: 0.5068 - val_loss: 1.7203 - val_accuracy: 0.4589\n",
            "Epoch 12/200\n",
            "13/14 [==========================>...] - ETA: 0s - loss: 1.3516 - accuracy: 0.5168\n",
            "Epoch 00012: val_accuracy did not improve from 0.45890\n",
            "14/14 [==============================] - 0s 18ms/step - loss: 1.3339 - accuracy: 0.5228 - val_loss: 4.7864 - val_accuracy: 0.3630\n",
            "Epoch 13/200\n",
            "13/14 [==========================>...] - ETA: 0s - loss: 1.7074 - accuracy: 0.4591\n",
            "Epoch 00013: val_accuracy did not improve from 0.45890\n",
            "14/14 [==============================] - 0s 18ms/step - loss: 1.8377 - accuracy: 0.4452 - val_loss: 2.0496 - val_accuracy: 0.4178\n",
            "Epoch 14/200\n",
            "13/14 [==========================>...] - ETA: 0s - loss: 2.0966 - accuracy: 0.4351\n",
            "Epoch 00014: val_accuracy did not improve from 0.45890\n",
            "14/14 [==============================] - 0s 18ms/step - loss: 2.0377 - accuracy: 0.4406 - val_loss: 2.5795 - val_accuracy: 0.2466\n",
            "Epoch 15/200\n",
            "12/14 [========================>.....] - ETA: 0s - loss: 1.2104 - accuracy: 0.5677\n",
            "Epoch 00015: val_accuracy improved from 0.45890 to 0.51370, saving model to best_weight_scene_mobileNet.h5\n",
            "14/14 [==============================] - 1s 73ms/step - loss: 1.2056 - accuracy: 0.5639 - val_loss: 1.4883 - val_accuracy: 0.5137\n",
            "Epoch 16/200\n",
            "13/14 [==========================>...] - ETA: 0s - loss: 1.5411 - accuracy: 0.5024\n",
            "Epoch 00016: val_accuracy did not improve from 0.51370\n",
            "14/14 [==============================] - 0s 18ms/step - loss: 1.5334 - accuracy: 0.5068 - val_loss: 2.1136 - val_accuracy: 0.4795\n",
            "Epoch 17/200\n",
            "13/14 [==========================>...] - ETA: 0s - loss: 2.7059 - accuracy: 0.4062\n",
            "Epoch 00017: val_accuracy did not improve from 0.51370\n",
            "14/14 [==============================] - 0s 19ms/step - loss: 2.7177 - accuracy: 0.4064 - val_loss: 3.1915 - val_accuracy: 0.3014\n",
            "Epoch 18/200\n",
            "13/14 [==========================>...] - ETA: 0s - loss: 3.3137 - accuracy: 0.3870\n",
            "Epoch 00018: val_accuracy did not improve from 0.51370\n",
            "14/14 [==============================] - 0s 18ms/step - loss: 3.2724 - accuracy: 0.3858 - val_loss: 3.1209 - val_accuracy: 0.4658\n",
            "Epoch 19/200\n",
            "13/14 [==========================>...] - ETA: 0s - loss: 1.9370 - accuracy: 0.5168\n",
            "Epoch 00019: val_accuracy did not improve from 0.51370\n",
            "14/14 [==============================] - 0s 18ms/step - loss: 1.9864 - accuracy: 0.5160 - val_loss: 3.4968 - val_accuracy: 0.4178\n",
            "Epoch 20/200\n",
            "13/14 [==========================>...] - ETA: 0s - loss: 1.8295 - accuracy: 0.4928\n",
            "Epoch 00020: val_accuracy did not improve from 0.51370\n",
            "14/14 [==============================] - 0s 17ms/step - loss: 1.7758 - accuracy: 0.5000 - val_loss: 2.4347 - val_accuracy: 0.4932\n",
            "Epoch 21/200\n",
            "13/14 [==========================>...] - ETA: 0s - loss: 1.2780 - accuracy: 0.5817\n",
            "Epoch 00021: val_accuracy did not improve from 0.51370\n",
            "14/14 [==============================] - 0s 18ms/step - loss: 1.2890 - accuracy: 0.5799 - val_loss: 1.9226 - val_accuracy: 0.4589\n",
            "Epoch 22/200\n",
            "13/14 [==========================>...] - ETA: 0s - loss: 2.1174 - accuracy: 0.4471\n",
            "Epoch 00022: val_accuracy did not improve from 0.51370\n",
            "14/14 [==============================] - 0s 18ms/step - loss: 2.0919 - accuracy: 0.4452 - val_loss: 2.9455 - val_accuracy: 0.4110\n",
            "Epoch 23/200\n",
            "13/14 [==========================>...] - ETA: 0s - loss: 2.3169 - accuracy: 0.4928\n",
            "Epoch 00023: val_accuracy did not improve from 0.51370\n",
            "14/14 [==============================] - 0s 18ms/step - loss: 2.3592 - accuracy: 0.4886 - val_loss: 2.5421 - val_accuracy: 0.3836\n",
            "Epoch 24/200\n",
            "13/14 [==========================>...] - ETA: 0s - loss: 2.0475 - accuracy: 0.4832\n",
            "Epoch 00024: val_accuracy improved from 0.51370 to 0.54110, saving model to best_weight_scene_mobileNet.h5\n",
            "14/14 [==============================] - 1s 66ms/step - loss: 2.0671 - accuracy: 0.4817 - val_loss: 1.4643 - val_accuracy: 0.5411\n",
            "Epoch 25/200\n",
            "13/14 [==========================>...] - ETA: 0s - loss: 1.0315 - accuracy: 0.6370\n",
            "Epoch 00025: val_accuracy did not improve from 0.54110\n",
            "14/14 [==============================] - 0s 19ms/step - loss: 1.0088 - accuracy: 0.6438 - val_loss: 1.6627 - val_accuracy: 0.4863\n",
            "Epoch 26/200\n",
            "13/14 [==========================>...] - ETA: 0s - loss: 1.0947 - accuracy: 0.6082\n",
            "Epoch 00026: val_accuracy did not improve from 0.54110\n",
            "14/14 [==============================] - 0s 18ms/step - loss: 1.0930 - accuracy: 0.6142 - val_loss: 1.7520 - val_accuracy: 0.4521\n",
            "Epoch 27/200\n",
            "13/14 [==========================>...] - ETA: 0s - loss: 0.7020 - accuracy: 0.7188\n",
            "Epoch 00027: val_accuracy improved from 0.54110 to 0.56164, saving model to best_weight_scene_mobileNet.h5\n",
            "14/14 [==============================] - 1s 67ms/step - loss: 0.6993 - accuracy: 0.7215 - val_loss: 1.5184 - val_accuracy: 0.5616\n",
            "Epoch 28/200\n",
            "13/14 [==========================>...] - ETA: 0s - loss: 1.3183 - accuracy: 0.5721\n",
            "Epoch 00028: val_accuracy did not improve from 0.56164\n",
            "14/14 [==============================] - 0s 19ms/step - loss: 1.2936 - accuracy: 0.5799 - val_loss: 1.7032 - val_accuracy: 0.5342\n",
            "Epoch 29/200\n",
            "13/14 [==========================>...] - ETA: 0s - loss: 0.7954 - accuracy: 0.6803\n",
            "Epoch 00029: val_accuracy improved from 0.56164 to 0.65753, saving model to best_weight_scene_mobileNet.h5\n",
            "14/14 [==============================] - 1s 67ms/step - loss: 0.7812 - accuracy: 0.6895 - val_loss: 1.2576 - val_accuracy: 0.6575\n",
            "Epoch 30/200\n",
            "13/14 [==========================>...] - ETA: 0s - loss: 0.6787 - accuracy: 0.7356\n",
            "Epoch 00030: val_accuracy did not improve from 0.65753\n",
            "14/14 [==============================] - 0s 21ms/step - loss: 0.6830 - accuracy: 0.7283 - val_loss: 1.1962 - val_accuracy: 0.6233\n",
            "Epoch 31/200\n",
            "13/14 [==========================>...] - ETA: 0s - loss: 0.9068 - accuracy: 0.6322\n",
            "Epoch 00031: val_accuracy did not improve from 0.65753\n",
            "14/14 [==============================] - 0s 19ms/step - loss: 0.9006 - accuracy: 0.6370 - val_loss: 2.8043 - val_accuracy: 0.4178\n",
            "Epoch 32/200\n",
            "13/14 [==========================>...] - ETA: 0s - loss: 4.2673 - accuracy: 0.4255\n",
            "Epoch 00032: val_accuracy did not improve from 0.65753\n",
            "14/14 [==============================] - 0s 18ms/step - loss: 4.3694 - accuracy: 0.4201 - val_loss: 8.0972 - val_accuracy: 0.2260\n",
            "Epoch 33/200\n",
            "13/14 [==========================>...] - ETA: 0s - loss: 5.9960 - accuracy: 0.3486\n",
            "Epoch 00033: val_accuracy did not improve from 0.65753\n",
            "14/14 [==============================] - 0s 18ms/step - loss: 5.7789 - accuracy: 0.3653 - val_loss: 4.6740 - val_accuracy: 0.3699\n",
            "Epoch 34/200\n",
            "13/14 [==========================>...] - ETA: 0s - loss: 3.0769 - accuracy: 0.4688\n",
            "Epoch 00034: val_accuracy did not improve from 0.65753\n",
            "14/14 [==============================] - 0s 18ms/step - loss: 3.0004 - accuracy: 0.4795 - val_loss: 3.6593 - val_accuracy: 0.3973\n",
            "Epoch 35/200\n",
            "13/14 [==========================>...] - ETA: 0s - loss: 1.8235 - accuracy: 0.5697\n",
            "Epoch 00035: val_accuracy did not improve from 0.65753\n",
            "14/14 [==============================] - 0s 18ms/step - loss: 1.8375 - accuracy: 0.5662 - val_loss: 2.0732 - val_accuracy: 0.4384\n",
            "Epoch 36/200\n",
            "13/14 [==========================>...] - ETA: 0s - loss: 0.9902 - accuracy: 0.6514\n",
            "Epoch 00036: val_accuracy did not improve from 0.65753\n",
            "14/14 [==============================] - 0s 17ms/step - loss: 0.9932 - accuracy: 0.6553 - val_loss: 1.2882 - val_accuracy: 0.6575\n",
            "Epoch 37/200\n",
            "13/14 [==========================>...] - ETA: 0s - loss: 1.1823 - accuracy: 0.5938\n",
            "Epoch 00037: val_accuracy did not improve from 0.65753\n",
            "14/14 [==============================] - 0s 17ms/step - loss: 1.1668 - accuracy: 0.5959 - val_loss: 1.3174 - val_accuracy: 0.5548\n",
            "Epoch 38/200\n",
            "13/14 [==========================>...] - ETA: 0s - loss: 0.5870 - accuracy: 0.7500\n",
            "Epoch 00038: val_accuracy did not improve from 0.65753\n",
            "14/14 [==============================] - 0s 18ms/step - loss: 0.5841 - accuracy: 0.7489 - val_loss: 1.3335 - val_accuracy: 0.5959\n",
            "Epoch 39/200\n",
            "13/14 [==========================>...] - ETA: 0s - loss: 0.5840 - accuracy: 0.7524\n",
            "Epoch 00039: val_accuracy did not improve from 0.65753\n",
            "14/14 [==============================] - 0s 18ms/step - loss: 0.5989 - accuracy: 0.7511 - val_loss: 1.4049 - val_accuracy: 0.5753\n",
            "Epoch 40/200\n",
            "13/14 [==========================>...] - ETA: 0s - loss: 0.9351 - accuracy: 0.6659\n",
            "Epoch 00040: val_accuracy did not improve from 0.65753\n",
            "14/14 [==============================] - 0s 18ms/step - loss: 0.9203 - accuracy: 0.6689 - val_loss: 1.8857 - val_accuracy: 0.5068\n",
            "Epoch 41/200\n",
            "13/14 [==========================>...] - ETA: 0s - loss: 0.7272 - accuracy: 0.7115\n",
            "Epoch 00041: val_accuracy did not improve from 0.65753\n",
            "14/14 [==============================] - 0s 18ms/step - loss: 0.7152 - accuracy: 0.7146 - val_loss: 1.4049 - val_accuracy: 0.5000\n",
            "Epoch 42/200\n",
            "13/14 [==========================>...] - ETA: 0s - loss: 0.6699 - accuracy: 0.7380\n",
            "Epoch 00042: val_accuracy did not improve from 0.65753\n",
            "14/14 [==============================] - 0s 18ms/step - loss: 0.6701 - accuracy: 0.7306 - val_loss: 2.1234 - val_accuracy: 0.3630\n",
            "Epoch 43/200\n",
            "13/14 [==========================>...] - ETA: 0s - loss: 0.7264 - accuracy: 0.7404\n",
            "Epoch 00043: val_accuracy did not improve from 0.65753\n",
            "14/14 [==============================] - 0s 19ms/step - loss: 0.7095 - accuracy: 0.7466 - val_loss: 1.6752 - val_accuracy: 0.5274\n",
            "Epoch 44/200\n",
            "13/14 [==========================>...] - ETA: 0s - loss: 0.5733 - accuracy: 0.7716\n",
            "Epoch 00044: val_accuracy did not improve from 0.65753\n",
            "14/14 [==============================] - 0s 18ms/step - loss: 0.5678 - accuracy: 0.7717 - val_loss: 1.3406 - val_accuracy: 0.5890\n",
            "Epoch 45/200\n",
            "12/14 [========================>.....] - ETA: 0s - loss: 0.5612 - accuracy: 0.7682\n",
            "Epoch 00045: val_accuracy did not improve from 0.65753\n",
            "14/14 [==============================] - 0s 18ms/step - loss: 0.5448 - accuracy: 0.7717 - val_loss: 1.7761 - val_accuracy: 0.5205\n",
            "Epoch 46/200\n",
            "13/14 [==========================>...] - ETA: 0s - loss: 0.7300 - accuracy: 0.6995\n",
            "Epoch 00046: val_accuracy did not improve from 0.65753\n",
            "14/14 [==============================] - 0s 18ms/step - loss: 0.7368 - accuracy: 0.6941 - val_loss: 1.3594 - val_accuracy: 0.6301\n",
            "Epoch 47/200\n",
            "13/14 [==========================>...] - ETA: 0s - loss: 0.8024 - accuracy: 0.7043\n",
            "Epoch 00047: val_accuracy did not improve from 0.65753\n",
            "14/14 [==============================] - 0s 18ms/step - loss: 0.7799 - accuracy: 0.7078 - val_loss: 1.9270 - val_accuracy: 0.4658\n",
            "Epoch 48/200\n",
            "13/14 [==========================>...] - ETA: 0s - loss: 0.5772 - accuracy: 0.7740\n",
            "Epoch 00048: val_accuracy did not improve from 0.65753\n",
            "14/14 [==============================] - 0s 18ms/step - loss: 0.5788 - accuracy: 0.7717 - val_loss: 1.2949 - val_accuracy: 0.6438\n",
            "Epoch 49/200\n",
            "13/14 [==========================>...] - ETA: 0s - loss: 0.5426 - accuracy: 0.7909\n",
            "Epoch 00049: val_accuracy did not improve from 0.65753\n",
            "14/14 [==============================] - 0s 18ms/step - loss: 0.5610 - accuracy: 0.7831 - val_loss: 1.4061 - val_accuracy: 0.6164\n",
            "Epoch 50/200\n",
            "12/14 [========================>.....] - ETA: 0s - loss: 0.5714 - accuracy: 0.7917\n",
            "Epoch 00050: val_accuracy improved from 0.65753 to 0.69863, saving model to best_weight_scene_mobileNet.h5\n",
            "14/14 [==============================] - 1s 104ms/step - loss: 0.5578 - accuracy: 0.7945 - val_loss: 1.1585 - val_accuracy: 0.6986\n",
            "Epoch 51/200\n",
            "13/14 [==========================>...] - ETA: 0s - loss: 0.5063 - accuracy: 0.7909\n",
            "Epoch 00051: val_accuracy did not improve from 0.69863\n",
            "14/14 [==============================] - 0s 18ms/step - loss: 0.4966 - accuracy: 0.7991 - val_loss: 1.2677 - val_accuracy: 0.6301\n",
            "Epoch 52/200\n",
            "13/14 [==========================>...] - ETA: 0s - loss: 0.4409 - accuracy: 0.8462\n",
            "Epoch 00052: val_accuracy did not improve from 0.69863\n",
            "14/14 [==============================] - 0s 19ms/step - loss: 0.4704 - accuracy: 0.8356 - val_loss: 1.2671 - val_accuracy: 0.6233\n",
            "Epoch 53/200\n",
            "13/14 [==========================>...] - ETA: 0s - loss: 0.5712 - accuracy: 0.7620\n",
            "Epoch 00053: val_accuracy did not improve from 0.69863\n",
            "14/14 [==============================] - 0s 18ms/step - loss: 0.5686 - accuracy: 0.7648 - val_loss: 1.4176 - val_accuracy: 0.6301\n",
            "Epoch 54/200\n",
            "13/14 [==========================>...] - ETA: 0s - loss: 2.0989 - accuracy: 0.5529\n",
            "Epoch 00054: val_accuracy did not improve from 0.69863\n",
            "14/14 [==============================] - 0s 18ms/step - loss: 2.0301 - accuracy: 0.5571 - val_loss: 2.8945 - val_accuracy: 0.4932\n",
            "Epoch 55/200\n",
            "12/14 [========================>.....] - ETA: 0s - loss: 1.4774 - accuracy: 0.5651\n",
            "Epoch 00055: val_accuracy did not improve from 0.69863\n",
            "14/14 [==============================] - 0s 18ms/step - loss: 1.8916 - accuracy: 0.5183 - val_loss: 4.8155 - val_accuracy: 0.2740\n",
            "Epoch 56/200\n",
            "13/14 [==========================>...] - ETA: 0s - loss: 1.9274 - accuracy: 0.5361\n",
            "Epoch 00056: val_accuracy did not improve from 0.69863\n",
            "14/14 [==============================] - 0s 18ms/step - loss: 1.9028 - accuracy: 0.5411 - val_loss: 2.1760 - val_accuracy: 0.5890\n",
            "Epoch 57/200\n",
            "13/14 [==========================>...] - ETA: 0s - loss: 0.6234 - accuracy: 0.7236\n",
            "Epoch 00057: val_accuracy did not improve from 0.69863\n",
            "14/14 [==============================] - 0s 18ms/step - loss: 0.6180 - accuracy: 0.7260 - val_loss: 1.3092 - val_accuracy: 0.6986\n",
            "Epoch 58/200\n",
            "13/14 [==========================>...] - ETA: 0s - loss: 1.0902 - accuracy: 0.6538\n",
            "Epoch 00058: val_accuracy did not improve from 0.69863\n",
            "14/14 [==============================] - 0s 18ms/step - loss: 1.0711 - accuracy: 0.6598 - val_loss: 4.3190 - val_accuracy: 0.3288\n",
            "Epoch 59/200\n",
            "13/14 [==========================>...] - ETA: 0s - loss: 1.1909 - accuracy: 0.5841\n",
            "Epoch 00059: val_accuracy improved from 0.69863 to 0.70548, saving model to best_weight_scene_mobileNet.h5\n",
            "14/14 [==============================] - 1s 63ms/step - loss: 1.1993 - accuracy: 0.5845 - val_loss: 1.2593 - val_accuracy: 0.7055\n",
            "Epoch 60/200\n",
            "13/14 [==========================>...] - ETA: 0s - loss: 1.3774 - accuracy: 0.6250\n",
            "Epoch 00060: val_accuracy did not improve from 0.70548\n",
            "14/14 [==============================] - 0s 20ms/step - loss: 1.4931 - accuracy: 0.6142 - val_loss: 1.3499 - val_accuracy: 0.6918\n",
            "Epoch 61/200\n",
            "12/14 [========================>.....] - ETA: 0s - loss: 1.2388 - accuracy: 0.6432\n",
            "Epoch 00061: val_accuracy did not improve from 0.70548\n",
            "14/14 [==============================] - 0s 20ms/step - loss: 1.1845 - accuracy: 0.6553 - val_loss: 1.6926 - val_accuracy: 0.6233\n",
            "Epoch 62/200\n",
            "13/14 [==========================>...] - ETA: 0s - loss: 1.3326 - accuracy: 0.6202\n",
            "Epoch 00062: val_accuracy did not improve from 0.70548\n",
            "14/14 [==============================] - 0s 18ms/step - loss: 1.3050 - accuracy: 0.6256 - val_loss: 2.1603 - val_accuracy: 0.5685\n",
            "Epoch 63/200\n",
            "13/14 [==========================>...] - ETA: 0s - loss: 0.5480 - accuracy: 0.7812\n",
            "Epoch 00063: val_accuracy did not improve from 0.70548\n",
            "14/14 [==============================] - 0s 19ms/step - loss: 0.5364 - accuracy: 0.7877 - val_loss: 1.4448 - val_accuracy: 0.6370\n",
            "Epoch 64/200\n",
            "13/14 [==========================>...] - ETA: 0s - loss: 0.3637 - accuracy: 0.8486\n",
            "Epoch 00064: val_accuracy did not improve from 0.70548\n",
            "14/14 [==============================] - 0s 19ms/step - loss: 0.3613 - accuracy: 0.8493 - val_loss: 1.4405 - val_accuracy: 0.6096\n",
            "Epoch 65/200\n",
            "13/14 [==========================>...] - ETA: 0s - loss: 0.3153 - accuracy: 0.8990\n",
            "Epoch 00065: val_accuracy did not improve from 0.70548\n",
            "14/14 [==============================] - 0s 21ms/step - loss: 0.3056 - accuracy: 0.9041 - val_loss: 1.1327 - val_accuracy: 0.6986\n",
            "Epoch 66/200\n",
            "13/14 [==========================>...] - ETA: 0s - loss: 0.3076 - accuracy: 0.8918\n",
            "Epoch 00066: val_accuracy did not improve from 0.70548\n",
            "14/14 [==============================] - 0s 18ms/step - loss: 0.3129 - accuracy: 0.8904 - val_loss: 1.1722 - val_accuracy: 0.6849\n",
            "Epoch 67/200\n",
            "13/14 [==========================>...] - ETA: 0s - loss: 0.2617 - accuracy: 0.9159\n",
            "Epoch 00067: val_accuracy improved from 0.70548 to 0.71233, saving model to best_weight_scene_mobileNet.h5\n",
            "14/14 [==============================] - 1s 65ms/step - loss: 0.2557 - accuracy: 0.9201 - val_loss: 1.2817 - val_accuracy: 0.7123\n",
            "Epoch 68/200\n",
            "12/14 [========================>.....] - ETA: 0s - loss: 0.2950 - accuracy: 0.8932\n",
            "Epoch 00068: val_accuracy did not improve from 0.71233\n",
            "14/14 [==============================] - 0s 21ms/step - loss: 0.2872 - accuracy: 0.9018 - val_loss: 1.1237 - val_accuracy: 0.6918\n",
            "Epoch 69/200\n",
            "12/14 [========================>.....] - ETA: 0s - loss: 0.2601 - accuracy: 0.9245\n",
            "Epoch 00069: val_accuracy did not improve from 0.71233\n",
            "14/14 [==============================] - 0s 18ms/step - loss: 0.2784 - accuracy: 0.9110 - val_loss: 1.3113 - val_accuracy: 0.7055\n",
            "Epoch 70/200\n",
            "13/14 [==========================>...] - ETA: 0s - loss: 0.4783 - accuracy: 0.8293\n",
            "Epoch 00070: val_accuracy did not improve from 0.71233\n",
            "14/14 [==============================] - 0s 18ms/step - loss: 0.5085 - accuracy: 0.8242 - val_loss: 1.5933 - val_accuracy: 0.6575\n",
            "Epoch 71/200\n",
            "13/14 [==========================>...] - ETA: 0s - loss: 0.5041 - accuracy: 0.8077\n",
            "Epoch 00071: val_accuracy did not improve from 0.71233\n",
            "14/14 [==============================] - 0s 19ms/step - loss: 0.5064 - accuracy: 0.8059 - val_loss: 1.8795 - val_accuracy: 0.5753\n",
            "Epoch 72/200\n",
            "13/14 [==========================>...] - ETA: 0s - loss: 1.1661 - accuracy: 0.6562\n",
            "Epoch 00072: val_accuracy did not improve from 0.71233\n",
            "14/14 [==============================] - 0s 18ms/step - loss: 1.2088 - accuracy: 0.6484 - val_loss: 1.2410 - val_accuracy: 0.6644\n",
            "Epoch 73/200\n",
            "13/14 [==========================>...] - ETA: 0s - loss: 0.6967 - accuracy: 0.7837\n",
            "Epoch 00073: val_accuracy did not improve from 0.71233\n",
            "14/14 [==============================] - 0s 19ms/step - loss: 0.7089 - accuracy: 0.7763 - val_loss: 1.4243 - val_accuracy: 0.6918\n",
            "Epoch 74/200\n",
            "13/14 [==========================>...] - ETA: 0s - loss: 0.8217 - accuracy: 0.7188\n",
            "Epoch 00074: val_accuracy did not improve from 0.71233\n",
            "14/14 [==============================] - 0s 18ms/step - loss: 0.8657 - accuracy: 0.7055 - val_loss: 1.6129 - val_accuracy: 0.5548\n",
            "Epoch 75/200\n",
            "13/14 [==========================>...] - ETA: 0s - loss: 0.6261 - accuracy: 0.8149\n",
            "Epoch 00075: val_accuracy did not improve from 0.71233\n",
            "14/14 [==============================] - 0s 18ms/step - loss: 0.6082 - accuracy: 0.8174 - val_loss: 1.2823 - val_accuracy: 0.6986\n",
            "Epoch 76/200\n",
            "13/14 [==========================>...] - ETA: 0s - loss: 0.3771 - accuracy: 0.8510\n",
            "Epoch 00076: val_accuracy did not improve from 0.71233\n",
            "14/14 [==============================] - 0s 18ms/step - loss: 0.3675 - accuracy: 0.8539 - val_loss: 1.2821 - val_accuracy: 0.7055\n",
            "Epoch 77/200\n",
            "13/14 [==========================>...] - ETA: 0s - loss: 0.5187 - accuracy: 0.8053\n",
            "Epoch 00077: val_accuracy did not improve from 0.71233\n",
            "14/14 [==============================] - 0s 19ms/step - loss: 0.5139 - accuracy: 0.8059 - val_loss: 1.7157 - val_accuracy: 0.6644\n",
            "Epoch 78/200\n",
            "13/14 [==========================>...] - ETA: 0s - loss: 1.3918 - accuracy: 0.6779\n",
            "Epoch 00078: val_accuracy did not improve from 0.71233\n",
            "14/14 [==============================] - 0s 19ms/step - loss: 1.3499 - accuracy: 0.6804 - val_loss: 1.9779 - val_accuracy: 0.5753\n",
            "Epoch 79/200\n",
            "13/14 [==========================>...] - ETA: 0s - loss: 0.8182 - accuracy: 0.7476\n",
            "Epoch 00079: val_accuracy improved from 0.71233 to 0.76027, saving model to best_weight_scene_mobileNet.h5\n",
            "14/14 [==============================] - 1s 97ms/step - loss: 0.8751 - accuracy: 0.7352 - val_loss: 1.2027 - val_accuracy: 0.7603\n",
            "Epoch 80/200\n",
            "11/14 [======================>.......] - ETA: 0s - loss: 0.3710 - accuracy: 0.8750\n",
            "Epoch 00080: val_accuracy did not improve from 0.76027\n",
            "14/14 [==============================] - 0s 20ms/step - loss: 0.3511 - accuracy: 0.8858 - val_loss: 1.4985 - val_accuracy: 0.6644\n",
            "Epoch 81/200\n",
            "13/14 [==========================>...] - ETA: 0s - loss: 0.2944 - accuracy: 0.9062\n",
            "Epoch 00081: val_accuracy did not improve from 0.76027\n",
            "14/14 [==============================] - 0s 18ms/step - loss: 0.2930 - accuracy: 0.9041 - val_loss: 1.5072 - val_accuracy: 0.6849\n",
            "Epoch 82/200\n",
            "13/14 [==========================>...] - ETA: 0s - loss: 0.2561 - accuracy: 0.9135\n",
            "Epoch 00082: val_accuracy improved from 0.76027 to 0.78082, saving model to best_weight_scene_mobileNet.h5\n",
            "14/14 [==============================] - 1s 64ms/step - loss: 0.2603 - accuracy: 0.9110 - val_loss: 1.0257 - val_accuracy: 0.7808\n",
            "Epoch 83/200\n",
            "11/14 [======================>.......] - ETA: 0s - loss: 0.1977 - accuracy: 0.9347\n",
            "Epoch 00083: val_accuracy did not improve from 0.78082\n",
            "14/14 [==============================] - 0s 20ms/step - loss: 0.1925 - accuracy: 0.9384 - val_loss: 1.1991 - val_accuracy: 0.7603\n",
            "Epoch 84/200\n",
            "13/14 [==========================>...] - ETA: 0s - loss: 0.1810 - accuracy: 0.9447\n",
            "Epoch 00084: val_accuracy did not improve from 0.78082\n",
            "14/14 [==============================] - 0s 19ms/step - loss: 0.1812 - accuracy: 0.9475 - val_loss: 1.1246 - val_accuracy: 0.7740\n",
            "Epoch 85/200\n",
            "13/14 [==========================>...] - ETA: 0s - loss: 0.1589 - accuracy: 0.9639\n",
            "Epoch 00085: val_accuracy improved from 0.78082 to 0.79452, saving model to best_weight_scene_mobileNet.h5\n",
            "14/14 [==============================] - 1s 71ms/step - loss: 0.1591 - accuracy: 0.9635 - val_loss: 0.9762 - val_accuracy: 0.7945\n",
            "Epoch 86/200\n",
            "13/14 [==========================>...] - ETA: 0s - loss: 0.1844 - accuracy: 0.9399\n",
            "Epoch 00086: val_accuracy did not improve from 0.79452\n",
            "14/14 [==============================] - 0s 18ms/step - loss: 0.1821 - accuracy: 0.9429 - val_loss: 1.0220 - val_accuracy: 0.7740\n",
            "Epoch 87/200\n",
            "13/14 [==========================>...] - ETA: 0s - loss: 0.1746 - accuracy: 0.9519\n",
            "Epoch 00087: val_accuracy did not improve from 0.79452\n",
            "14/14 [==============================] - 0s 19ms/step - loss: 0.1788 - accuracy: 0.9475 - val_loss: 1.0369 - val_accuracy: 0.7603\n",
            "Epoch 88/200\n",
            "13/14 [==========================>...] - ETA: 0s - loss: 0.1914 - accuracy: 0.9447\n",
            "Epoch 00088: val_accuracy did not improve from 0.79452\n",
            "14/14 [==============================] - 0s 19ms/step - loss: 0.1866 - accuracy: 0.9475 - val_loss: 1.0943 - val_accuracy: 0.7466\n",
            "Epoch 89/200\n",
            "12/14 [========================>.....] - ETA: 0s - loss: 0.1488 - accuracy: 0.9531\n",
            "Epoch 00089: val_accuracy did not improve from 0.79452\n",
            "14/14 [==============================] - 0s 18ms/step - loss: 0.1465 - accuracy: 0.9543 - val_loss: 1.0520 - val_accuracy: 0.7603\n",
            "Epoch 90/200\n",
            "13/14 [==========================>...] - ETA: 0s - loss: 0.1727 - accuracy: 0.9591\n",
            "Epoch 00090: val_accuracy improved from 0.79452 to 0.80137, saving model to best_weight_scene_mobileNet.h5\n",
            "14/14 [==============================] - 3s 211ms/step - loss: 0.1696 - accuracy: 0.9612 - val_loss: 0.9417 - val_accuracy: 0.8014\n",
            "Epoch 91/200\n",
            "13/14 [==========================>...] - ETA: 0s - loss: 0.1367 - accuracy: 0.9639\n",
            "Epoch 00091: val_accuracy did not improve from 0.80137\n",
            "14/14 [==============================] - 0s 19ms/step - loss: 0.1435 - accuracy: 0.9612 - val_loss: 0.9992 - val_accuracy: 0.7808\n",
            "Epoch 92/200\n",
            "13/14 [==========================>...] - ETA: 0s - loss: 0.1194 - accuracy: 0.9760\n",
            "Epoch 00092: val_accuracy improved from 0.80137 to 0.80822, saving model to best_weight_scene_mobileNet.h5\n",
            "14/14 [==============================] - 2s 115ms/step - loss: 0.1194 - accuracy: 0.9749 - val_loss: 0.9435 - val_accuracy: 0.8082\n",
            "Epoch 93/200\n",
            "11/14 [======================>.......] - ETA: 0s - loss: 0.1198 - accuracy: 0.9830\n",
            "Epoch 00093: val_accuracy did not improve from 0.80822\n",
            "14/14 [==============================] - 0s 20ms/step - loss: 0.1200 - accuracy: 0.9817 - val_loss: 0.9664 - val_accuracy: 0.7808\n",
            "Epoch 94/200\n",
            "13/14 [==========================>...] - ETA: 0s - loss: 0.1406 - accuracy: 0.9567\n",
            "Epoch 00094: val_accuracy did not improve from 0.80822\n",
            "14/14 [==============================] - 0s 20ms/step - loss: 0.1463 - accuracy: 0.9521 - val_loss: 1.1030 - val_accuracy: 0.7260\n",
            "Epoch 95/200\n",
            "13/14 [==========================>...] - ETA: 0s - loss: 0.2450 - accuracy: 0.8966\n",
            "Epoch 00095: val_accuracy did not improve from 0.80822\n",
            "14/14 [==============================] - 0s 18ms/step - loss: 0.2429 - accuracy: 0.8973 - val_loss: 1.5526 - val_accuracy: 0.6918\n",
            "Epoch 96/200\n",
            "12/14 [========================>.....] - ETA: 0s - loss: 0.7177 - accuracy: 0.8203\n",
            "Epoch 00096: val_accuracy did not improve from 0.80822\n",
            "14/14 [==============================] - 0s 19ms/step - loss: 1.0048 - accuracy: 0.7922 - val_loss: 4.7068 - val_accuracy: 0.5137\n",
            "Epoch 97/200\n",
            "13/14 [==========================>...] - ETA: 0s - loss: 1.0392 - accuracy: 0.7596\n",
            "Epoch 00097: val_accuracy did not improve from 0.80822\n",
            "14/14 [==============================] - 0s 20ms/step - loss: 1.0002 - accuracy: 0.7671 - val_loss: 1.4558 - val_accuracy: 0.6301\n",
            "Epoch 98/200\n",
            "13/14 [==========================>...] - ETA: 0s - loss: 0.2044 - accuracy: 0.9231\n",
            "Epoch 00098: val_accuracy did not improve from 0.80822\n",
            "14/14 [==============================] - 0s 18ms/step - loss: 0.1991 - accuracy: 0.9247 - val_loss: 1.0524 - val_accuracy: 0.7945\n",
            "Epoch 99/200\n",
            "13/14 [==========================>...] - ETA: 0s - loss: 0.1138 - accuracy: 0.9856\n",
            "Epoch 00099: val_accuracy did not improve from 0.80822\n",
            "14/14 [==============================] - 0s 19ms/step - loss: 0.1138 - accuracy: 0.9863 - val_loss: 1.0042 - val_accuracy: 0.8082\n",
            "Epoch 100/200\n",
            "13/14 [==========================>...] - ETA: 0s - loss: 0.1166 - accuracy: 0.9760\n",
            "Epoch 00100: val_accuracy did not improve from 0.80822\n",
            "14/14 [==============================] - 0s 19ms/step - loss: 0.1172 - accuracy: 0.9749 - val_loss: 0.9866 - val_accuracy: 0.7945\n",
            "Epoch 101/200\n",
            "13/14 [==========================>...] - ETA: 0s - loss: 0.1233 - accuracy: 0.9760\n",
            "Epoch 00101: val_accuracy improved from 0.80822 to 0.82192, saving model to best_weight_scene_mobileNet.h5\n",
            "14/14 [==============================] - 5s 343ms/step - loss: 0.1265 - accuracy: 0.9703 - val_loss: 0.9404 - val_accuracy: 0.8219\n",
            "Epoch 102/200\n",
            "12/14 [========================>.....] - ETA: 0s - loss: 0.1436 - accuracy: 0.9557\n",
            "Epoch 00102: val_accuracy did not improve from 0.82192\n",
            "14/14 [==============================] - 0s 19ms/step - loss: 0.1411 - accuracy: 0.9589 - val_loss: 0.9506 - val_accuracy: 0.8082\n",
            "Epoch 103/200\n",
            "13/14 [==========================>...] - ETA: 0s - loss: 0.0914 - accuracy: 0.9880\n",
            "Epoch 00103: val_accuracy did not improve from 0.82192\n",
            "14/14 [==============================] - 0s 18ms/step - loss: 0.0922 - accuracy: 0.9863 - val_loss: 0.9515 - val_accuracy: 0.7945\n",
            "Epoch 104/200\n",
            "13/14 [==========================>...] - ETA: 0s - loss: 0.0999 - accuracy: 0.9832\n",
            "Epoch 00104: val_accuracy did not improve from 0.82192\n",
            "14/14 [==============================] - 0s 22ms/step - loss: 0.1023 - accuracy: 0.9795 - val_loss: 0.9132 - val_accuracy: 0.8014\n",
            "Epoch 105/200\n",
            "11/14 [======================>.......] - ETA: 0s - loss: 0.0873 - accuracy: 0.9773\n",
            "Epoch 00105: val_accuracy did not improve from 0.82192\n",
            "14/14 [==============================] - 0s 20ms/step - loss: 0.0942 - accuracy: 0.9726 - val_loss: 0.9577 - val_accuracy: 0.8082\n",
            "Epoch 106/200\n",
            "13/14 [==========================>...] - ETA: 0s - loss: 0.1163 - accuracy: 0.9760\n",
            "Epoch 00106: val_accuracy did not improve from 0.82192\n",
            "14/14 [==============================] - 0s 19ms/step - loss: 0.1179 - accuracy: 0.9726 - val_loss: 0.9762 - val_accuracy: 0.8082\n",
            "Epoch 107/200\n",
            "13/14 [==========================>...] - ETA: 0s - loss: 0.1079 - accuracy: 0.9688\n",
            "Epoch 00107: val_accuracy did not improve from 0.82192\n",
            "14/14 [==============================] - 0s 19ms/step - loss: 0.1103 - accuracy: 0.9680 - val_loss: 1.0481 - val_accuracy: 0.8014\n",
            "Epoch 108/200\n",
            "13/14 [==========================>...] - ETA: 0s - loss: 0.1348 - accuracy: 0.9543\n",
            "Epoch 00108: val_accuracy did not improve from 0.82192\n",
            "14/14 [==============================] - 0s 19ms/step - loss: 0.1338 - accuracy: 0.9566 - val_loss: 1.0931 - val_accuracy: 0.7671\n",
            "Epoch 109/200\n",
            "13/14 [==========================>...] - ETA: 0s - loss: 0.1188 - accuracy: 0.9639\n",
            "Epoch 00109: val_accuracy did not improve from 0.82192\n",
            "14/14 [==============================] - 0s 18ms/step - loss: 0.1171 - accuracy: 0.9658 - val_loss: 0.9448 - val_accuracy: 0.8014\n",
            "Epoch 110/200\n",
            "13/14 [==========================>...] - ETA: 0s - loss: 0.0980 - accuracy: 0.9712\n",
            "Epoch 00110: val_accuracy improved from 0.82192 to 0.83562, saving model to best_weight_scene_mobileNet.h5\n",
            "14/14 [==============================] - 1s 69ms/step - loss: 0.1045 - accuracy: 0.9680 - val_loss: 0.9208 - val_accuracy: 0.8356\n",
            "Epoch 111/200\n",
            "12/14 [========================>.....] - ETA: 0s - loss: 0.1333 - accuracy: 0.9635\n",
            "Epoch 00111: val_accuracy did not improve from 0.83562\n",
            "14/14 [==============================] - 0s 19ms/step - loss: 0.1260 - accuracy: 0.9680 - val_loss: 1.0446 - val_accuracy: 0.7397\n",
            "Epoch 112/200\n",
            "13/14 [==========================>...] - ETA: 0s - loss: 0.1079 - accuracy: 0.9736\n",
            "Epoch 00112: val_accuracy did not improve from 0.83562\n",
            "14/14 [==============================] - 0s 19ms/step - loss: 0.1061 - accuracy: 0.9749 - val_loss: 0.9843 - val_accuracy: 0.8014\n",
            "Epoch 113/200\n",
            "11/14 [======================>.......] - ETA: 0s - loss: 0.0951 - accuracy: 0.9744\n",
            "Epoch 00113: val_accuracy did not improve from 0.83562\n",
            "14/14 [==============================] - 0s 20ms/step - loss: 0.0923 - accuracy: 0.9795 - val_loss: 1.0038 - val_accuracy: 0.7740\n",
            "Epoch 114/200\n",
            "13/14 [==========================>...] - ETA: 0s - loss: 0.0701 - accuracy: 0.9904\n",
            "Epoch 00114: val_accuracy did not improve from 0.83562\n",
            "14/14 [==============================] - 0s 19ms/step - loss: 0.0690 - accuracy: 0.9909 - val_loss: 0.9569 - val_accuracy: 0.8151\n",
            "Epoch 115/200\n",
            "13/14 [==========================>...] - ETA: 0s - loss: 0.0881 - accuracy: 0.9856\n",
            "Epoch 00115: val_accuracy did not improve from 0.83562\n",
            "14/14 [==============================] - 0s 19ms/step - loss: 0.0866 - accuracy: 0.9863 - val_loss: 1.3965 - val_accuracy: 0.7260\n",
            "Epoch 116/200\n",
            "12/14 [========================>.....] - ETA: 0s - loss: 0.3692 - accuracy: 0.8828\n",
            "Epoch 00116: val_accuracy did not improve from 0.83562\n",
            "14/14 [==============================] - 0s 19ms/step - loss: 0.3748 - accuracy: 0.8767 - val_loss: 2.1433 - val_accuracy: 0.6644\n",
            "Epoch 117/200\n",
            "12/14 [========================>.....] - ETA: 0s - loss: 0.5431 - accuracy: 0.8203\n",
            "Epoch 00117: val_accuracy did not improve from 0.83562\n",
            "14/14 [==============================] - 0s 19ms/step - loss: 0.7130 - accuracy: 0.7877 - val_loss: 2.6793 - val_accuracy: 0.6301\n",
            "Epoch 118/200\n",
            "13/14 [==========================>...] - ETA: 0s - loss: 0.8644 - accuracy: 0.7837\n",
            "Epoch 00118: val_accuracy did not improve from 0.83562\n",
            "14/14 [==============================] - 0s 19ms/step - loss: 0.8413 - accuracy: 0.7877 - val_loss: 1.3303 - val_accuracy: 0.7466\n",
            "Epoch 119/200\n",
            "13/14 [==========================>...] - ETA: 0s - loss: 0.2019 - accuracy: 0.9255\n",
            "Epoch 00119: val_accuracy did not improve from 0.83562\n",
            "14/14 [==============================] - 0s 19ms/step - loss: 0.1998 - accuracy: 0.9247 - val_loss: 1.3039 - val_accuracy: 0.7466\n",
            "Epoch 120/200\n",
            "13/14 [==========================>...] - ETA: 0s - loss: 0.1571 - accuracy: 0.9375\n",
            "Epoch 00120: val_accuracy did not improve from 0.83562\n",
            "14/14 [==============================] - 0s 20ms/step - loss: 0.1546 - accuracy: 0.9384 - val_loss: 1.0542 - val_accuracy: 0.7877\n",
            "Epoch 121/200\n",
            "13/14 [==========================>...] - ETA: 0s - loss: 0.2617 - accuracy: 0.8918\n",
            "Epoch 00121: val_accuracy did not improve from 0.83562\n",
            "14/14 [==============================] - 0s 18ms/step - loss: 0.2499 - accuracy: 0.8973 - val_loss: 1.6836 - val_accuracy: 0.7055\n",
            "Epoch 122/200\n",
            "13/14 [==========================>...] - ETA: 0s - loss: 0.2777 - accuracy: 0.9111\n",
            "Epoch 00122: val_accuracy did not improve from 0.83562\n",
            "14/14 [==============================] - 0s 19ms/step - loss: 0.2667 - accuracy: 0.9155 - val_loss: 0.9563 - val_accuracy: 0.8219\n",
            "Epoch 123/200\n",
            "13/14 [==========================>...] - ETA: 0s - loss: 0.0804 - accuracy: 0.9784\n",
            "Epoch 00123: val_accuracy did not improve from 0.83562\n",
            "14/14 [==============================] - 0s 19ms/step - loss: 0.0790 - accuracy: 0.9795 - val_loss: 1.0284 - val_accuracy: 0.7945\n",
            "Epoch 124/200\n",
            "11/14 [======================>.......] - ETA: 0s - loss: 0.0851 - accuracy: 0.9858\n",
            "Epoch 00124: val_accuracy did not improve from 0.83562\n",
            "14/14 [==============================] - 0s 21ms/step - loss: 0.0883 - accuracy: 0.9817 - val_loss: 0.9678 - val_accuracy: 0.8082\n"
          ],
          "name": "stdout"
        }
      ]
    },
    {
      "cell_type": "code",
      "metadata": {
        "id": "98_oXi-lcgux",
        "colab": {
          "base_uri": "https://localhost:8080/",
          "height": 591
        },
        "outputId": "94207620-175a-44ca-db10-bc7a5f586b11"
      },
      "source": [
        "import matplotlib.pyplot as plt\n",
        "\n",
        "print(H.history.keys())\n",
        "# summarize history for accuracy\n",
        "plt.plot(H.history['accuracy'])\n",
        "plt.plot(H.history['val_accuracy'])\n",
        "plt.title('model accuracy')\n",
        "plt.ylabel('accuracy')\n",
        "plt.xlabel('epoch')\n",
        "plt.legend(['train', 'test'], loc='upper left')\n",
        "plt.show()\n",
        "# summarize history for loss\n",
        "plt.plot(H.history['loss'])\n",
        "plt.plot(H.history['val_loss'])\n",
        "plt.title('model loss')\n",
        "plt.ylabel('loss')\n",
        "plt.xlabel('epoch')\n",
        "plt.legend(['train', 'test'], loc='upper left')\n",
        "plt.show()"
      ],
      "execution_count": 168,
      "outputs": [
        {
          "output_type": "stream",
          "text": [
            "dict_keys(['loss', 'accuracy', 'val_loss', 'val_accuracy'])\n"
          ],
          "name": "stdout"
        },
        {
          "output_type": "display_data",
          "data": {
            "image/png": "[encoded data removed]",
            "text/plain": [
              "<Figure size 432x288 with 1 Axes>"
            ]
          },
          "metadata": {
            "tags": [],
            "needs_background": "light"
          }
        },
        {
          "output_type": "display_data",
          "data": {
            "image/png": "[encoded data removed]",
            "text/plain": [
              "<Figure size 432x288 with 1 Axes>"
            ]
          },
          "metadata": {
            "tags": [],
            "needs_background": "light"
          }
        }
      ]
    },
    {
      "cell_type": "code",
      "metadata": {
        "id": "lPAZkmBJVGCD",
        "colab": {
          "base_uri": "https://localhost:8080/"
        },
        "outputId": "96186892-194e-4570-d6c3-608ddb53220d"
      },
      "source": [
        "# evaluate the network\n",
        "print(\"[INFO] evaluating network...\")\n",
        "predictions = model.predict(testX, batch_size=32)\n",
        "print(classification_report(testY.argmax(axis=1),\n",
        "\tpredictions.argmax(axis=1), target_names=lb.classes_))"
      ],
      "execution_count": 169,
      "outputs": [
        {
          "output_type": "stream",
          "text": [
            "[INFO] evaluating network...\n",
            "WARNING:tensorflow:Model was constructed with shape (None, 150528) for input Tensor(\"flatten_22_input:0\", shape=(None, 150528), dtype=float32), but it was called on an input with incompatible shape (None, 224, 224, 3).\n",
            "              precision    recall  f1-score   support\n",
            "\n",
            "      GMB_01       0.80      0.75      0.77        32\n",
            "      GMB_02       0.74      0.77      0.76        22\n",
            "      GMB_03       0.91      0.81      0.86        26\n",
            "      GMB_04       0.74      0.82      0.78        39\n",
            "      GMB_05       0.85      0.85      0.85        27\n",
            "\n",
            "    accuracy                           0.80       146\n",
            "   macro avg       0.81      0.80      0.80       146\n",
            "weighted avg       0.81      0.80      0.80       146\n",
            "\n"
          ],
          "name": "stdout"
        }
      ]
    },
    {
      "cell_type": "code",
      "metadata": {
        "id": "4uBcj8x8iwTw",
        "colab": {
          "base_uri": "https://localhost:8080/"
        },
        "outputId": "60d59390-1d96-4b55-8050-4a0f8e182acc"
      },
      "source": [
        "model.save('nnmodel_scene')"
      ],
      "execution_count": 170,
      "outputs": [
        {
          "output_type": "stream",
          "text": [
            "WARNING:tensorflow:From /usr/local/lib/python3.6/dist-packages/tensorflow/python/training/tracking/tracking.py:111: Model.state_updates (from tensorflow.python.keras.engine.training) is deprecated and will be removed in a future version.\n",
            "Instructions for updating:\n",
            "This property should not be used in TensorFlow 2.0, as updates are applied automatically.\n",
            "WARNING:tensorflow:From /usr/local/lib/python3.6/dist-packages/tensorflow/python/training/tracking/tracking.py:111: Layer.updates (from tensorflow.python.keras.engine.base_layer) is deprecated and will be removed in a future version.\n",
            "Instructions for updating:\n",
            "This property should not be used in TensorFlow 2.0, as updates are applied automatically.\n",
            "INFO:tensorflow:Assets written to: nnmodel_scene/assets\n"
          ],
          "name": "stdout"
        }
      ]
    }
  ]
}